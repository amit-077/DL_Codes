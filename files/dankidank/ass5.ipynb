{
 "cells": [
  {
   "cell_type": "code",
   "execution_count": 1,
   "metadata": {
    "id": "dXcLkyM1bTY8"
   },
   "outputs": [],
   "source": [
    "import matplotlib.pyplot as plt\n",
    "import seaborn as sns\n",
    "import numpy as np\n",
    "import re\n",
    "%matplotlib inline"
   ]
  },
  {
   "cell_type": "code",
   "execution_count": 2,
   "metadata": {
    "id": "XHmfWouLbTZA"
   },
   "outputs": [],
   "source": [
    "sentences = \"\"\"There was nothing so very remarkable in that nor did Alice think it so _very_ much out of the way to hear the Rabbit say to itself, “Oh dear! Oh dear! I shall be late!” (when she thought it over afterwards, it occurred to her that she ought to have wondered at this, but at the time it all seemed quite natural); but when the Rabbit actually _took a watch out of its waistcoat-pocket_, and looked at it, and then hurried on, Alice started to her feet, for it flashed across her mind that she had never before seen a rabbit with either a waistcoat-pocket, or a watch to take out of it, and burning with curiosity, she ran across the field after it, and fortunately was just in time to see it pop down a large rabbit-hole under the hedge.\"\"\""
   ]
  },
  {
   "cell_type": "markdown",
   "metadata": {
    "id": "QdmP4i71bTZB"
   },
   "source": [
    "Clean Data"
   ]
  },
  {
   "cell_type": "code",
   "execution_count": 3,
   "metadata": {
    "id": "BrWgAUrdbTZC"
   },
   "outputs": [],
   "source": [
    "sentences = re.sub('[^A-Za-z0-9]+', ' ', sentences)                  # remove special characters\n",
    "sentences = re.sub(r'(?:^| )\\w(?:$| )', ' ', sentences).strip()      # remove 1 letter words\n",
    "sentences = sentences.lower()                                        # lower all characters"
   ]
  },
  {
   "cell_type": "markdown",
   "metadata": {
    "id": "MdGdE72abTZD"
   },
   "source": [
    "Vocabulary"
   ]
  },
  {
   "cell_type": "code",
   "execution_count": 5,
   "metadata": {
    "id": "3GI4bb5YbTZD"
   },
   "outputs": [],
   "source": [
    "words = sentences.split()   # Split the cleaned sentences into words\n",
    "vocab = set(words)          # Get the unique set of words/vocab"
   ]
  },
  {
   "cell_type": "code",
   "execution_count": 6,
   "metadata": {},
   "outputs": [
    {
     "data": {
      "text/plain": [
       "{'across',\n",
       " 'actually',\n",
       " 'after',\n",
       " 'afterwards',\n",
       " 'alice',\n",
       " 'all',\n",
       " 'and',\n",
       " 'at',\n",
       " 'be',\n",
       " 'before',\n",
       " 'burning',\n",
       " 'but',\n",
       " 'curiosity',\n",
       " 'dear',\n",
       " 'did',\n",
       " 'down',\n",
       " 'either',\n",
       " 'feet',\n",
       " 'field',\n",
       " 'flashed',\n",
       " 'for',\n",
       " 'fortunately',\n",
       " 'had',\n",
       " 'have',\n",
       " 'hear',\n",
       " 'hedge',\n",
       " 'her',\n",
       " 'hole',\n",
       " 'hurried',\n",
       " 'in',\n",
       " 'it',\n",
       " 'its',\n",
       " 'itself',\n",
       " 'just',\n",
       " 'large',\n",
       " 'late',\n",
       " 'looked',\n",
       " 'mind',\n",
       " 'much',\n",
       " 'natural',\n",
       " 'never',\n",
       " 'nor',\n",
       " 'nothing',\n",
       " 'occurred',\n",
       " 'of',\n",
       " 'oh',\n",
       " 'on',\n",
       " 'or',\n",
       " 'ought',\n",
       " 'out',\n",
       " 'over',\n",
       " 'pocket',\n",
       " 'pop',\n",
       " 'quite',\n",
       " 'rabbit',\n",
       " 'ran',\n",
       " 'remarkable',\n",
       " 'say',\n",
       " 'see',\n",
       " 'seemed',\n",
       " 'seen',\n",
       " 'shall',\n",
       " 'she',\n",
       " 'so',\n",
       " 'started',\n",
       " 'take',\n",
       " 'that',\n",
       " 'the',\n",
       " 'then',\n",
       " 'there',\n",
       " 'think',\n",
       " 'this',\n",
       " 'thought',\n",
       " 'time',\n",
       " 'to',\n",
       " 'took',\n",
       " 'under',\n",
       " 'very',\n",
       " 'waistcoat',\n",
       " 'was',\n",
       " 'watch',\n",
       " 'way',\n",
       " 'when',\n",
       " 'with',\n",
       " 'wondered'}"
      ]
     },
     "execution_count": 6,
     "metadata": {},
     "output_type": "execute_result"
    }
   ],
   "source": [
    "vocab"
   ]
  },
  {
   "cell_type": "code",
   "execution_count": 7,
   "metadata": {
    "id": "ogsVx1SLbTZE"
   },
   "outputs": [],
   "source": [
    "vocab_size = len(vocab)\n",
    "embed_dim = 10               # words ahown in 10 dimention\n",
    "context_size = 2             # 2 context word in front and back"
   ]
  },
  {
   "cell_type": "markdown",
   "metadata": {
    "id": "leJnMmNtbTZF"
   },
   "source": [
    "Implementation"
   ]
  },
  {
   "cell_type": "code",
   "execution_count": 8,
   "metadata": {
    "id": "VNOe97hFbTZF"
   },
   "outputs": [],
   "source": [
    "# map each word to a index number to represent in the 10 dim graph\n",
    "word_to_ix = {word: i for i, word in enumerate(vocab)}\n",
    "ix_to_word = {i: word for i, word in enumerate(vocab)}  "
   ]
  },
  {
   "cell_type": "markdown",
   "metadata": {
    "id": "HY1LKbf1bTZF"
   },
   "source": [
    "Data bags"
   ]
  },
  {
   "cell_type": "code",
   "execution_count": 9,
   "metadata": {
    "colab": {
     "base_uri": "https://localhost:8080/"
    },
    "id": "wl0VBMgCbTZF",
    "outputId": "2d25efe0-78e0-4a7e-cdde-92d43e0f8d10"
   },
   "outputs": [
    {
     "name": "stdout",
     "output_type": "stream",
     "text": [
      "[(['there', 'was', 'so', 'very'], 'nothing'), (['was', 'nothing', 'very', 'remarkable'], 'so'), (['nothing', 'so', 'remarkable', 'in'], 'very'), (['so', 'very', 'in', 'that'], 'remarkable'), (['very', 'remarkable', 'that', 'nor'], 'in'), (['remarkable', 'in', 'nor', 'did'], 'that'), (['in', 'that', 'did', 'alice'], 'nor'), (['that', 'nor', 'alice', 'think'], 'did'), (['nor', 'did', 'think', 'it'], 'alice'), (['did', 'alice', 'it', 'so'], 'think'), (['alice', 'think', 'so', 'very'], 'it'), (['think', 'it', 'very', 'much'], 'so'), (['it', 'so', 'much', 'out'], 'very'), (['so', 'very', 'out', 'of'], 'much'), (['very', 'much', 'of', 'the'], 'out'), (['much', 'out', 'the', 'way'], 'of'), (['out', 'of', 'way', 'to'], 'the'), (['of', 'the', 'to', 'hear'], 'way'), (['the', 'way', 'hear', 'the'], 'to'), (['way', 'to', 'the', 'rabbit'], 'hear')]\n",
      "\n",
      "=====================================================\n",
      "\n",
      "[['there', 'was', 'so', 'very'], ['was', 'nothing', 'very', 'remarkable'], ['nothing', 'so', 'remarkable', 'in'], ['so', 'very', 'in', 'that'], ['very', 'remarkable', 'that', 'nor'], ['remarkable', 'in', 'nor', 'did'], ['in', 'that', 'did', 'alice'], ['that', 'nor', 'alice', 'think'], ['nor', 'did', 'think', 'it'], ['did', 'alice', 'it', 'so'], ['alice', 'think', 'so', 'very'], ['think', 'it', 'very', 'much'], ['it', 'so', 'much', 'out'], ['so', 'very', 'out', 'of'], ['very', 'much', 'of', 'the'], ['much', 'out', 'the', 'way'], ['out', 'of', 'way', 'to'], ['of', 'the', 'to', 'hear'], ['the', 'way', 'hear', 'the'], ['way', 'to', 'the', 'rabbit']]\n"
     ]
    }
   ],
   "source": [
    "# data - [(context), target]\n",
    "test_context = []\n",
    "data = []\n",
    "for i in range(2, len(words) - 2):\n",
    "    context = [words[i - 2], words[i - 1], words[i + 1], words[i + 2]]\n",
    "    target = words[i]\n",
    "    data.append((context, target))\n",
    "    test_context.append(context)\n",
    "print(data[:20])\n",
    "print(\"\\n=====================================================\\n\")\n",
    "print(test_context[:20])"
   ]
  },
  {
   "cell_type": "markdown",
   "metadata": {
    "id": "OiTZPe3GbTZG"
   },
   "source": [
    "Embeddings"
   ]
  },
  {
   "cell_type": "code",
   "execution_count": 10,
   "metadata": {
    "id": "51IcQMkQbTZG"
   },
   "outputs": [],
   "source": [
    "embeddings =  np.random.random_sample((vocab_size, embed_dim))    # Randomly putting all vocab in 10 dim graph"
   ]
  },
  {
   "cell_type": "markdown",
   "metadata": {
    "id": "nrc3qPlebTZH"
   },
   "source": [
    "Linear Model"
   ]
  },
  {
   "cell_type": "code",
   "execution_count": 11,
   "metadata": {
    "id": "Y_x_j_7mbTZH"
   },
   "outputs": [],
   "source": [
    "def linear(m, theta):   # linear transformation of context words\n",
    "    w = theta           # weight matrix to transform m\n",
    "    return m.dot(w)"
   ]
  },
  {
   "cell_type": "markdown",
   "metadata": {
    "id": "bHs2L3lobTZH"
   },
   "source": [
    "Log softmax + NLLloss = Cross Entropy"
   ]
  },
  {
   "cell_type": "code",
   "execution_count": 12,
   "metadata": {
    "id": "Ega8iwJ-bTZH"
   },
   "outputs": [],
   "source": [
    "# Calculates the Probabilities of the predicted words\n",
    "def log_softmax(x):      \n",
    "    e_x = np.exp(x - np.max(x))     # for nuerical stability\n",
    "    return np.log(e_x / e_x.sum())"
   ]
  },
  {
   "cell_type": "code",
   "execution_count": 13,
   "metadata": {
    "id": "M8JW6O5ZbTZH"
   },
   "outputs": [],
   "source": [
    "# Negative log-likelihood loss\n",
    "def NLLLoss(logs, targets):\n",
    "    out = logs[range(len(targets)), targets]\n",
    "    return -out.sum()/len(out)"
   ]
  },
  {
   "cell_type": "code",
   "execution_count": 14,
   "metadata": {
    "id": "7XoFf8pVbTZH"
   },
   "outputs": [],
   "source": [
    "# computes the gradient of the cross-entropy loss \n",
    "def log_softmax_crossentropy_with_logits(logits,target):\n",
    "\n",
    "    out = np.zeros_like(logits)\n",
    "    out[np.arange(len(logits)),target] = 1\n",
    "\n",
    "    softmax = np.exp(logits) / np.exp(logits).sum(axis=-1,keepdims=True)\n",
    "\n",
    "    return (- out + softmax) / logits.shape[0]"
   ]
  },
  {
   "cell_type": "markdown",
   "metadata": {
    "id": "LiY27jXibTZH"
   },
   "source": [
    "Forward function"
   ]
  },
  {
   "cell_type": "code",
   "execution_count": 15,
   "metadata": {
    "id": "ioUM6Ud6bTZH"
   },
   "outputs": [],
   "source": [
    "def forward(context_idxs, theta):\n",
    "    m = embeddings[context_idxs].reshape(1, -1)       # Concatenate context word embeddings\n",
    "    n = linear(m, theta)                              # Apply linear transformation\n",
    "    o = log_softmax(n)                                # Get log-probabilities of words\n",
    "\n",
    "    return m, n, o"
   ]
  },
  {
   "cell_type": "markdown",
   "metadata": {
    "id": "iMhsJ4vbbTZI"
   },
   "source": [
    "Backward function"
   ]
  },
  {
   "cell_type": "code",
   "execution_count": 16,
   "metadata": {
    "id": "mnC0kWTzbTZI"
   },
   "outputs": [],
   "source": [
    "# calculates weight updates required to reduce loss\n",
    "def backward(preds, theta, target_idxs):\n",
    "    m, n, o = preds\n",
    "\n",
    "    dlog = log_softmax_crossentropy_with_logits(n, target_idxs)\n",
    "    dw = m.T.dot(dlog)    # Gradient w.r.t. the weight matrix theta to update weight\n",
    "\n",
    "    return dw"
   ]
  },
  {
   "cell_type": "markdown",
   "metadata": {
    "id": "dXB3Z9FObTZI"
   },
   "source": [
    "Optimize function"
   ]
  },
  {
   "cell_type": "code",
   "execution_count": 17,
   "metadata": {
    "id": "pm-T7xXAbTZI"
   },
   "outputs": [],
   "source": [
    "def optimize(theta, grad, lr=0.03):\n",
    "    theta -= grad * lr                  # Update weights using gradient descent\n",
    "    return theta"
   ]
  },
  {
   "cell_type": "markdown",
   "metadata": {
    "id": "7lKLbqDobTZI"
   },
   "source": [
    "Training"
   ]
  },
  {
   "cell_type": "code",
   "execution_count": 18,
   "metadata": {
    "id": "fWKaXuTrbTZI"
   },
   "outputs": [],
   "source": [
    "theta = np.random.uniform(-1, 1, (2 * context_size * embed_dim, vocab_size))"
   ]
  },
  {
   "cell_type": "code",
   "execution_count": 19,
   "metadata": {
    "id": "vKxQ6GKrbTZI"
   },
   "outputs": [],
   "source": [
    "epoch_losses = {}\n",
    "\n",
    "for epoch in range(80):\n",
    "\n",
    "    losses =  []\n",
    "\n",
    "    for context, target in data:\n",
    "        context_idxs = np.array([word_to_ix[w] for w in context])\n",
    "        preds = forward(context_idxs, theta)     # computes model's prediction\n",
    "\n",
    "        target_idxs = np.array([word_to_ix[target]])\n",
    "        loss = NLLLoss(preds[-1], target_idxs)  # calculates NLLLoss (predicted vs target)\n",
    "\n",
    "        losses.append(loss)\n",
    "\n",
    "        grad = backward(preds, theta, target_idxs)  # computes the gradients\n",
    "        theta = optimize(theta, grad, lr=0.03)   # Update weights\n",
    "\n",
    "\n",
    "    epoch_losses[epoch] = losses"
   ]
  },
  {
   "cell_type": "markdown",
   "metadata": {
    "id": "-6NuRFFWbTZI"
   },
   "source": [
    "Analyze"
   ]
  },
  {
   "cell_type": "markdown",
   "metadata": {
    "id": "ARvr6NTkbTZI"
   },
   "source": [
    "Plot loss/epoch"
   ]
  },
  {
   "cell_type": "code",
   "execution_count": 20,
   "metadata": {
    "colab": {
     "base_uri": "https://localhost:8080/",
     "height": 519
    },
    "id": "N6mePIotbTZJ",
    "outputId": "b46712d9-c6e5-4805-ee33-d6697c23f865"
   },
   "outputs": [
    {
     "data": {
      "text/plain": [
       "Text(0, 0.5, 'Losses')"
      ]
     },
     "execution_count": 20,
     "metadata": {},
     "output_type": "execute_result"
    },
    {
     "data": {
      "image/png": "[encoded data removed]",
      "text/plain": [
       "<Figure size 640x480 with 1 Axes>"
      ]
     },
     "metadata": {},
     "output_type": "display_data"
    }
   ],
   "source": [
    "ix = np.arange(0,80)\n",
    "\n",
    "fig = plt.figure()\n",
    "fig.suptitle('Epoch/Losses', fontsize=20)\n",
    "plt.plot(ix,[epoch_losses[i][0] for i in ix])\n",
    "plt.xlabel('Epochs', fontsize=12)\n",
    "plt.ylabel('Losses', fontsize=12)"
   ]
  },
  {
   "cell_type": "markdown",
   "metadata": {
    "id": "_VrjN6wcbTZJ"
   },
   "source": [
    "Predict function"
   ]
  },
  {
   "cell_type": "code",
   "execution_count": 21,
   "metadata": {
    "id": "gWptIcRVbTZJ"
   },
   "outputs": [],
   "source": [
    "def predict(words):\n",
    "    context_idxs = np.array([word_to_ix[w] for w in words])\n",
    "    preds = forward(context_idxs, theta)\n",
    "    word = ix_to_word[np.argmax(preds[-1])]\n",
    "\n",
    "    return word"
   ]
  },
  {
   "cell_type": "code",
   "execution_count": 26,
   "metadata": {
    "colab": {
     "base_uri": "https://localhost:8080/",
     "height": 36
    },
    "id": "JKOgMfv1bTZJ",
    "outputId": "e0ad4725-7a5b-4c7e-ccaf-a8e51e29400a"
   },
   "outputs": [
    {
     "name": "stdout",
     "output_type": "stream",
     "text": [
      "['to', 'her', 'she', 'ought']\n"
     ]
    },
    {
     "data": {
      "text/plain": [
       "'that'"
      ]
     },
     "execution_count": 26,
     "metadata": {},
     "output_type": "execute_result"
    }
   ],
   "source": [
    "import random\n",
    "random_context = random.choice(test_context)\n",
    "print(random_context)\n",
    "#predict(['there', 'was', 'so', 'very'])\n",
    "predict(random_context)"
   ]
  },
  {
   "cell_type": "markdown",
   "metadata": {
    "id": "Xfk9xeBpbTZJ"
   },
   "source": [
    "Accuracy"
   ]
  },
  {
   "cell_type": "code",
   "execution_count": 27,
   "metadata": {
    "id": "udAwWDKEbTZJ"
   },
   "outputs": [],
   "source": [
    "def accuracy():\n",
    "    wrong = 0\n",
    "\n",
    "    for context, target in data:\n",
    "        if(predict(context) != target):\n",
    "            wrong += 1\n",
    "\n",
    "    return (1 - (wrong / len(data)))"
   ]
  },
  {
   "cell_type": "code",
   "execution_count": 28,
   "metadata": {
    "colab": {
     "base_uri": "https://localhost:8080/"
    },
    "id": "-IUwOB4BbTZJ",
    "outputId": "ce200554-dfa5-44bd-e5b5-cc53611411a7"
   },
   "outputs": [
    {
     "data": {
      "text/plain": [
       "0.9925373134328358"
      ]
     },
     "execution_count": 28,
     "metadata": {},
     "output_type": "execute_result"
    }
   ],
   "source": [
    "accuracy()"
   ]
  },
  {
   "cell_type": "code",
   "execution_count": null,
   "metadata": {
    "id": "iJiUIyLicCA1"
   },
   "outputs": [],
   "source": []
  },
  {
   "cell_type": "code",
   "execution_count": null,
   "metadata": {},
   "outputs": [],
   "source": []
  },
  {
   "cell_type": "code",
   "execution_count": null,
   "metadata": {},
   "outputs": [],
   "source": []
  },
  {
   "cell_type": "code",
   "execution_count": null,
   "metadata": {},
   "outputs": [],
   "source": []
  },
  {
   "cell_type": "code",
   "execution_count": null,
   "metadata": {},
   "outputs": [],
   "source": []
  },
  {
   "cell_type": "code",
   "execution_count": null,
   "metadata": {},
   "outputs": [],
   "source": []
  }
 ],
 "metadata": {
  "colab": {
   "provenance": []
  },
  "kernelspec": {
   "display_name": "Python 3 (ipykernel)",
   "language": "python",
   "name": "python3"
  },
  "language_info": {
   "codemirror_mode": {
    "name": "ipython",
    "version": 3
   },
   "file_extension": ".py",
   "mimetype": "text/x-python",
   "name": "python",
   "nbconvert_exporter": "python",
   "pygments_lexer": "ipython3",
   "version": "3.10.15"
  }
 },
 "nbformat": 4,
 "nbformat_minor": 4
}
