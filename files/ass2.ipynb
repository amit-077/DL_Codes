{
 "cells": [
  {
   "cell_type": "code",
   "execution_count": 3,
   "id": "673f9114-68d9-404c-830e-be4ffadfc51c",
   "metadata": {},
   "outputs": [],
   "source": [
    "import tensorflow as tf"
   ]
  },
  {
   "cell_type": "raw",
   "id": "6277ea49-046a-4eec-915e-f24ecd40c67e",
   "metadata": {},
   "source": [
    "from keras.models import Sequential\n",
    "from keras.datasets import mnist\n",
    "import numpy as np\n",
    "import random"
   ]
  },
  {
   "cell_type": "code",
   "execution_count": 4,
   "id": "da026ed6-8ec4-4ef6-ad83-46543441d618",
   "metadata": {},
   "outputs": [
    {
     "name": "stdout",
     "output_type": "stream",
     "text": [
      "Defaulting to user installation because normal site-packages is not writeable\n",
      "Requirement already satisfied: matplotlib in c:\\users\\amito\\appdata\\roaming\\python\\python312\\site-packages (3.8.0)\n",
      "Requirement already satisfied: contourpy>=1.0.1 in c:\\users\\amito\\appdata\\roaming\\python\\python312\\site-packages (from matplotlib) (1.1.1)\n",
      "Requirement already satisfied: cycler>=0.10 in c:\\users\\amito\\appdata\\roaming\\python\\python312\\site-packages (from matplotlib) (0.12.0)\n",
      "Requirement already satisfied: fonttools>=4.22.0 in c:\\users\\amito\\appdata\\roaming\\python\\python312\\site-packages (from matplotlib) (4.43.0)\n",
      "Requirement already satisfied: kiwisolver>=1.0.1 in c:\\users\\amito\\appdata\\roaming\\python\\python312\\site-packages (from matplotlib) (1.4.5)\n",
      "Requirement already satisfied: numpy<2,>=1.21 in c:\\users\\amito\\appdata\\roaming\\python\\python312\\site-packages (from matplotlib) (1.26.0)\n",
      "Requirement already satisfied: packaging>=20.0 in c:\\users\\amito\\appdata\\roaming\\python\\python312\\site-packages (from matplotlib) (23.2)\n",
      "Requirement already satisfied: pillow>=6.2.0 in c:\\users\\amito\\appdata\\roaming\\python\\python312\\site-packages (from matplotlib) (10.0.1)\n",
      "Requirement already satisfied: pyparsing>=2.3.1 in c:\\users\\amito\\appdata\\roaming\\python\\python312\\site-packages (from matplotlib) (3.1.1)\n",
      "Requirement already satisfied: python-dateutil>=2.7 in c:\\users\\amito\\appdata\\roaming\\python\\python312\\site-packages (from matplotlib) (2.8.2)\n",
      "Requirement already satisfied: six>=1.5 in c:\\users\\amito\\appdata\\roaming\\python\\python312\\site-packages (from python-dateutil>=2.7->matplotlib) (1.16.0)\n",
      "Note: you may need to restart the kernel to use updated packages.\n"
     ]
    },
    {
     "name": "stderr",
     "output_type": "stream",
     "text": [
      "DEPRECATION: Loading egg at c:\\program files\\python312\\lib\\site-packages\\vboxapi-1.0-py3.12.egg is deprecated. pip 24.3 will enforce this behaviour change. A possible replacement is to use pip for package installation.. Discussion can be found at https://github.com/pypa/pip/issues/12330\n",
      "\n",
      "[notice] A new release of pip is available: 24.0 -> 24.3.1\n",
      "[notice] To update, run: python.exe -m pip install --upgrade pip\n"
     ]
    }
   ],
   "source": [
    "pip install matplotlib"
   ]
  },
  {
   "cell_type": "code",
   "execution_count": 5,
   "id": "f79e3ffc-d40b-4be7-837d-c73b76504fd6",
   "metadata": {},
   "outputs": [],
   "source": [
    "import matplotlib.pyplot as plt"
   ]
  },
  {
   "cell_type": "code",
   "execution_count": 6,
   "id": "d936ec57-31b5-4321-8ad3-796cd38f1de3",
   "metadata": {},
   "outputs": [
    {
     "ename": "NameError",
     "evalue": "name 'mnist' is not defined",
     "output_type": "error",
     "traceback": [
      "\u001b[1;31m---------------------------------------------------------------------------\u001b[0m",
      "\u001b[1;31mNameError\u001b[0m                                 Traceback (most recent call last)",
      "Cell \u001b[1;32mIn[6], line 1\u001b[0m\n\u001b[1;32m----> 1\u001b[0m (x_train,y_train),(x_test,y_test)\u001b[38;5;241m=\u001b[39m\u001b[43mmnist\u001b[49m\u001b[38;5;241m.\u001b[39mload_data()\n\u001b[0;32m      2\u001b[0m x_train\u001b[38;5;241m=\u001b[39mx_train\u001b[38;5;241m/\u001b[39m\u001b[38;5;241m255\u001b[39m\n\u001b[0;32m      3\u001b[0m x_test\u001b[38;5;241m=\u001b[39mx_test\u001b[38;5;241m/\u001b[39m\u001b[38;5;241m255\u001b[39m\n",
      "\u001b[1;31mNameError\u001b[0m: name 'mnist' is not defined"
     ]
    }
   ],
   "source": [
    "(x_train,y_train),(x_test,y_test)=mnist.load_data()\n",
    "x_train=x_train/255\n",
    "x_test=x_test/255"
   ]
  },
  {
   "cell_type": "code",
   "execution_count": null,
   "id": "a206948e-7d2e-4937-8071-0cf17268b3d8",
   "metadata": {},
   "outputs": [],
   "source": [
    "import keras\n",
    "model=Sequential()\n",
    "model.add(keras.layers.Flatten(input_shape=(28,28)))\n"
   ]
  },
  {
   "cell_type": "code",
   "execution_count": null,
   "id": "6df7e6b3-7180-4ed0-b431-0461568e58dc",
   "metadata": {},
   "outputs": [],
   "source": [
    "model.add(keras.layers.Dense(128,activation=\"relu\"))\n",
    "model.add(keras.layers.Dense(10,activation=\"softmax\"))"
   ]
  },
  {
   "cell_type": "code",
   "execution_count": null,
   "id": "0206a983-6ac7-4fab-ba76-05c2bcafe4bb",
   "metadata": {},
   "outputs": [],
   "source": [
    "model.compile(optimizer=\"sgd\",loss='sparse_categorical_crossentropy',metrics=[\"accuracy\"])"
   ]
  },
  {
   "cell_type": "code",
   "execution_count": null,
   "id": "aadf785b-2b1f-47ff-9310-ea5acd616ce5",
   "metadata": {},
   "outputs": [],
   "source": [
    "H=model.fit(x_train,y_train,validation_data=(x_test,y_test),epochs=10)"
   ]
  },
  {
   "cell_type": "code",
   "execution_count": null,
   "id": "2d340e16-62b6-4e99-a6b3-0de93f56f60e",
   "metadata": {},
   "outputs": [],
   "source": [
    "test_loss,test_acc=model.evaluate(x_test,y_test)\n",
    "print(\"Loss=%.4f\"%test_loss)\n",
    "print(\"Accuracy=%4f\"%test_acc)"
   ]
  },
  {
   "cell_type": "code",
   "execution_count": null,
   "id": "65be2405-bd4d-4533-a53b-027c36d6eb8e",
   "metadata": {},
   "outputs": [],
   "source": [
    "n=random.randint(0,9999)\n",
    "plt.imshow(x_test[n])\n",
    "plt.show()"
   ]
  },
  {
   "cell_type": "code",
   "execution_count": null,
   "id": "b018cf2c-b289-41f5-8915-b83f806102cf",
   "metadata": {},
   "outputs": [],
   "source": [
    "prediction=model.predict(x_test)\n",
    "print(\"The handwritten number in the image is %d\"%np.argmax(prediction[n]))"
   ]
  },
  {
   "cell_type": "code",
   "execution_count": null,
   "id": "3195417e-6d37-4aed-b7aa-d2ff8adca8f8",
   "metadata": {},
   "outputs": [],
   "source": [
    "# Plot the training loss and accuracy\n",
    "plt.figure(figsize=(12, 4))\n",
    "\n",
    "# Plot loss\n",
    "plt.subplot(1, 2, 1)\n",
    "plt.plot(H.history['loss'], label='train_loss')\n",
    "plt.plot(H.history['val_loss'], label='val_loss')\n",
    "plt.title('Loss')\n",
    "plt.xlabel('Epochs')\n",
    "plt.ylabel('Loss')\n",
    "plt.legend()\n",
    "\n",
    "# Plot accuracy\n",
    "plt.subplot(1, 2, 2)\n",
    "plt.plot(H.history['accuracy'], label='train_accuracy')\n",
    "plt.plot(H.history['val_accuracy'], label='val_accuracy')\n",
    "plt.title('Accuracy')\n",
    "plt.xlabel('Epochs')\n",
    "plt.ylabel('Accuracy')\n",
    "plt.legend()\n",
    "\n",
    "plt.show()\n",
    "\n"
   ]
  }
 ],
 "metadata": {
  "kernelspec": {
   "display_name": "Python 3 (ipykernel)",
   "language": "python",
   "name": "python3"
  },
  "language_info": {
   "codemirror_mode": {
    "name": "ipython",
    "version": 3
   },
   "file_extension": ".py",
   "mimetype": "text/x-python",
   "name": "python",
   "nbconvert_exporter": "python",
   "pygments_lexer": "ipython3",
   "version": "3.12.0"
  }
 },
 "nbformat": 4,
 "nbformat_minor": 5
}
